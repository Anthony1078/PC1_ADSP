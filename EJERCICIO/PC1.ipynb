{
  "nbformat": 4,
  "nbformat_minor": 0,
  "metadata": {
    "colab": {
      "provenance": []
    },
    "kernelspec": {
      "name": "python3",
      "display_name": "Python 3"
    },
    "language_info": {
      "name": "python"
    }
  },
  "cells": [
    {
      "cell_type": "markdown",
      "source": [
        "# Práctica calificada 1\n",
        "\n",
        "Profesor: [Carlos Adrián Alarcón](https://www.linkedin.com/in/carlos-adrian-alarcon-delgado/)\n",
        "\n"
      ],
      "metadata": {
        "id": "LlN2L2SiRS2r"
      }
    },
    {
      "cell_type": "markdown",
      "source": [
        "## Descripción\n",
        "\n",
        "Bienvenidos a su primera práctica calificada.\n",
        "\n",
        "Como no podía ser de otra manera, lo que van a hacer es predecir la nota de unos alumnos. Pueden encontrar el dataset [aquí](https://www.kaggle.com/datasets/uciml/student-alcohol-consumption?select=student-por.csv). La idea es que puedan utilizar todas las variables posibles, sin embargo, tengan en consideración la información que van a tener disponible al momento de la predicción (no traten de predecir la nota en función a si aprobó o no)."
      ],
      "metadata": {
        "id": "DntDT--AReWW"
      }
    },
    {
      "cell_type": "markdown",
      "source": [
        "### Entendiendo machine learning (3 pts)\n",
        "\n",
        "Ustedes son asesores estudiantiles y quieren determinar la nota de los alumnos, sin embargo, el primer objetivo que ustedes tienen es **explicar** qué factores son los que generan una mayor o menor nota. En su clase de analítica predictiva, ustedes han revisado modelos más explicables y menos explicable, y atentamente han escuchado a su profesor sobre cuáles son estos modelos. Lo que se necesita ahora es utilizar un modelo explicable. Implementalo en las siguientes líneas de código. Recuerda aplicar el `train_test_split`."
      ],
      "metadata": {
        "id": "a7bfvXKsSANh"
      }
    },
    {
      "cell_type": "code",
      "source": [
        "### Carga el dataset aquí\n",
        "\n"
      ],
      "metadata": {
        "id": "LAJclgwgSBqs"
      },
      "execution_count": null,
      "outputs": []
    },
    {
      "cell_type": "code",
      "execution_count": null,
      "metadata": {
        "id": "j-WjOWcgRP3L"
      },
      "outputs": [],
      "source": [
        "### Implementa el modelo aquí"
      ]
    },
    {
      "cell_type": "markdown",
      "source": [
        "Escribe aquí las principales conclusiones del modelo e indica cuáles son las variables más importantes (las que llevan a los alumnos a tener mejor nota). Indica claramente las implicaciones y las acciones que desencadenarían en función a los resultados"
      ],
      "metadata": {
        "id": "o-yVtHkTS7h7"
      }
    },
    {
      "cell_type": "markdown",
      "source": [
        "### Feature engineering (4 pts)\n",
        "\n",
        "Como científicos de datos, ustedes han escuchado que generar nuevas variables y transformar las existentes es importante para mejorar el desempeño de un modelo. En esta parte, deberás proponer, construir e incluir en el modelo al menos 5 variables (si ya las utilizaste en la anterior sección, identifica una nueva forma de transformarla, p.e. un encoding diferente para una variable categórica, además del famoso `one hot encoding`). Recuerda que estas nuevas variables tienen que tener sentido y si son encodings nuevos, tienen que respetar el tipo de dato de la variable categórica."
      ],
      "metadata": {
        "id": "Mauw2baYS1vf"
      }
    },
    {
      "cell_type": "code",
      "source": [
        "### Escribe el código aquí"
      ],
      "metadata": {
        "id": "NoxmRRp3UAtt"
      },
      "execution_count": null,
      "outputs": []
    },
    {
      "cell_type": "markdown",
      "source": [
        "Describe cada variable creada y explica el por qué crees que podría mejorar el poder predictivo del modelo."
      ],
      "metadata": {
        "id": "d6w4IPspUDkW"
      }
    },
    {
      "cell_type": "markdown",
      "source": [
        "Evalua el impacto en la precisión de la predicción de estas nuevas variables haciendo uso de una métrica vista en clase. Explica qué significa esta métrica e indica qué versión es mejor (pregunta 1 vs pregunta 2)"
      ],
      "metadata": {
        "id": "f-GHNC5wUTKD"
      }
    },
    {
      "cell_type": "code",
      "source": [
        "### Escribe el código aquí"
      ],
      "metadata": {
        "id": "1pMrNrqYURfS"
      },
      "execution_count": null,
      "outputs": []
    },
    {
      "cell_type": "markdown",
      "source": [
        "Escribe tu respuesta aquí"
      ],
      "metadata": {
        "id": "QzHbmDSgVW62"
      }
    },
    {
      "cell_type": "markdown",
      "source": [
        "### Descubriendo a los vecinos más cercanos (3 pts)\n",
        "\n",
        "Aplica el algoritmo `KNN` con la cantidad de vecinos más conveniente que creas (deberás iterar con varios para determinar cuál es la mejor versión). Muestra las métricas de desempeño y comparalos con los algoritmos de las preguntas anteriores"
      ],
      "metadata": {
        "id": "D2mQfsggUj7N"
      }
    },
    {
      "cell_type": "code",
      "source": [
        "### Escribe el código aquí"
      ],
      "metadata": {
        "id": "k8g0zeRGU7xG"
      },
      "execution_count": null,
      "outputs": []
    },
    {
      "cell_type": "markdown",
      "source": [
        "Escribe tu respuesta aquí"
      ],
      "metadata": {
        "id": "ojeuWWliVU98"
      }
    },
    {
      "cell_type": "markdown",
      "source": [
        "### Aplicando los árboles de decisión (3 pts)\n",
        "\n",
        "En este punto te toca aplicar un árbol de decisión. Puedes utilizar las variables que creas conveniente. Al finalizar, dibuja el árbol e identifica qué potenciales problemas tienen los árboles de decisiones y cómo solucionarlos."
      ],
      "metadata": {
        "id": "Ww10qoO0VFIn"
      }
    },
    {
      "cell_type": "code",
      "source": [
        "### Escribe el código aquí"
      ],
      "metadata": {
        "id": "UhqB1IAeVj3V"
      },
      "execution_count": null,
      "outputs": []
    },
    {
      "cell_type": "markdown",
      "source": [
        "Escribe tu respuesta aquí"
      ],
      "metadata": {
        "id": "c3tMWOmZVlZY"
      }
    },
    {
      "cell_type": "markdown",
      "source": [
        "### Ensambles (3 pts)\n",
        "\n",
        "Ahora te toca aplicar el modelo `Random Forest`. Identifica intuitivamente (con ciclos for principalmente) los mejores parámetros e indica qué significa cada uno de ellos. Puedes usar todas las variables que consideres conveniente. Asimismo, investiga sobre el error out-of-bag y explica qué es el bagging, en qué consiste, y cómo el error out-of-bag me sirve para identificar sobreajuste (define qué es sobreajuste antes). Con eso, identifica el error out-of-bag en tu modelo e interpretalo. Finalmente, implementa cualquier modelo de boosting y compara los modelos que has entrenado hasta ahora, desde la pregunta 1 e identifica cuál es el mejor en la métrica que hayas escogido. Justifica el por qué de la métrica y genera conclusiones de negocio en función a la respuesta teórica de la pregunta 1."
      ],
      "metadata": {
        "id": "EVxoJfMyVs0y"
      }
    },
    {
      "cell_type": "code",
      "source": [
        "### Escribe el código aquí"
      ],
      "metadata": {
        "id": "xuDrE2CCWRrh"
      },
      "execution_count": null,
      "outputs": []
    },
    {
      "cell_type": "markdown",
      "source": [
        "Escribe tu respuesta aquí"
      ],
      "metadata": {
        "id": "aT0IzsOnWTMu"
      }
    },
    {
      "cell_type": "markdown",
      "source": [
        "### Clusterización (4 ptos.)\n",
        "\n",
        "Ahora ya no les toca ser consejeros estudiantiles, sino analistas que están revisando a qué alumnos les darían una beca. Para eso, lo que tienen que hacer es realizar una clusterización de los alumnos. Identifica (justifica el número de clústeres identificados) los clústeres, interprétalos e indica a qué clúster le darían la beca y por qué (recuerden que las becas son limitadas y deberían ir a quienes realmente las necesitan y las van a poder aprovechar)."
      ],
      "metadata": {
        "id": "h2rmpDF8WcCf"
      }
    },
    {
      "cell_type": "code",
      "source": [
        "### Escribe tu código aquí"
      ],
      "metadata": {
        "id": "JLd1DHPlXWS3"
      },
      "execution_count": null,
      "outputs": []
    },
    {
      "cell_type": "markdown",
      "source": [
        "Escribe tu respuesta aquí"
      ],
      "metadata": {
        "id": "I59tNceLXX8n"
      }
    },
    {
      "cell_type": "markdown",
      "source": [
        "### Reflexión (hasta 3 ptos.)\n",
        "\n",
        "La idea de esta sección es que, de manera concienzuda, crítica, y a un nivel universitario, puedan identificar las oportunidades y ventajas de los modelos que han utilizado en esta práctica y cómo podrían servir para los casos de uso planteados. Recuerden que no necesariamente queremos el modelo más preciso, sino que va a depender del uso que le vamos a dar. Asimismo, indica qué otro enfoque le darían al problema y qué se puede hacer para mejorar las métricas. Finalmente, reflexiona acerca de las métricas utilizadas e indica qué otras métricas podrías haber usado. Lo que quiero saber es su proceso de pensamiento y de decisión. Esta parte es opcional pero si la llenan correctamente al nivel esperado van a tener una buena bonificación, debido a que la calificación será rigurosa."
      ],
      "metadata": {
        "id": "4Vr1p0U8Xabw"
      }
    }
  ]
}